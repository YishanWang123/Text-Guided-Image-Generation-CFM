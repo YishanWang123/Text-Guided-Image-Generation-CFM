{
 "cells": [
  {
   "cell_type": "code",
   "execution_count": null,
   "id": "60c795fb",
   "metadata": {},
   "outputs": [],
   "source": [
    "import torch\n",
    "\n",
    "x = torch.randint(0, 10, (3,))"
   ]
  }
 ],
 "metadata": {
  "kernelspec": {
   "display_name": "dppo",
   "language": "python",
   "name": "python3"
  },
  "language_info": {
   "name": "python",
   "version": "3.8.20"
  }
 },
 "nbformat": 4,
 "nbformat_minor": 5
}
